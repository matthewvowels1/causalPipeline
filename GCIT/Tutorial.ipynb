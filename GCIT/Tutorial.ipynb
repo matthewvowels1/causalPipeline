{
 "cells": [
  {
   "cell_type": "markdown",
   "metadata": {},
   "source": [
    "# Example use case of the Generative Conditional Independence Test\n",
    "\n",
    "This notebook provides a simple use case of the Generative Conditional Independence Test for testing independence of two variables given we know about other variables that may be related to our quantities of interest. Please find more details the paper *\"Conditional Independence Testing using Generative Adversarial Networks\"* by *Alexis Bellot and Mihaela van der Schaar*. "
   ]
  },
  {
   "cell_type": "markdown",
   "metadata": {},
   "source": [
    "## What is the Generative Conditional Independence Test?"
   ]
  },
  {
   "cell_type": "markdown",
   "metadata": {},
   "source": [
    "Conditional independence tests are concerned with the question of whether two variables $X$ and $Y$ behave independently of each other, after accounting for the effect of confounders $Z$. Such questions can be written as a hypothesis testing problem: $\\mathcal H_0: X\\indep Y|Z $ versus the general alternative of no independence. A conditional independence test, given a significance level, determines whether to reject or not the null hypothesis $\\mathcal H_0$."
   ]
  },
  {
   "cell_type": "markdown",
   "metadata": {},
   "source": [
    "A number of studies have shown such tests to fail when a large number of variables $Z$ confound the relationship between $X$ and $Y$. This work describes a test that is empirically more robust and whose performance guarantees do not depend on the number of variables involved."
   ]
  },
  {
   "cell_type": "markdown",
   "metadata": {},
   "source": [
    "Our test is based on a modification of Generative Adversarial Networks (GANs) that simulates from a distribution under the assumption of conditional independence, while maintaining good power in high dimensional data. In our procedure, after training, the first step involves simulating from our network to generate data sets consistent with $\\mathcal H_0$. We then define a test statistic to capture the $X-Y$ dependency in each sample and compute an empirical distribution which approximates the behaviour of the statistic under $\\mathcal H_0$ and can be directly compared to the statistic observed on the real data to make a decision. "
   ]
  },
  {
   "cell_type": "markdown",
   "metadata": {},
   "source": [
    "Let us first generate some data from the GCIT.data_utils module in GCIT as follows:"
   ]
  },
  {
   "cell_type": "code",
   "execution_count": 4,
   "metadata": {
    "collapsed": true
   },
   "outputs": [],
   "source": [
    "from utils import *\n",
    "\n",
    "x, y, z = generate_samples_random(size=500, sType='CI', dx=1, dy=1, dz=100,fixed_function='nonlinear', dist_z='gaussian')"
   ]
  },
  {
   "cell_type": "markdown",
   "metadata": {},
   "source": [
    "Here we sample gaussian random variables transformed through non-linear functions, such that $Y$ depends on both $X$ and $Z$."
   ]
  },
  {
   "cell_type": "markdown",
   "metadata": {},
   "source": [
    "### Now, can we say whether there is an independent relationship between $X$ and $Y$ that is not due to $Z$?"
   ]
  },
  {
   "cell_type": "markdown",
   "metadata": {},
   "source": [
    "To answer this question, the GCIT takes into account the associations of $Z$ and $Y$ separately to mimic a setting where the null hypothesis holds, i.e. $X$ is irrelevant for inferring $Y$, and then compares this synthetic setting to the actual observations. To arrive at a *p-value* we simply call GCIT with arguments the arrays of data variables as follows:"
   ]
  },
  {
   "cell_type": "code",
   "execution_count": 6,
   "metadata": {},
   "outputs": [
    {
     "name": "stdout",
     "output_type": "stream",
     "text": [
      "p-value is 0.711 - There is not enough evidence in the data to reject the null hypothesis.\n"
     ]
    }
   ],
   "source": [
    "from GCIT import *\n",
    "\n",
    "alpha = 0.05\n",
    "pval = GCIT(x, y, z, verbose=False)\n",
    "\n",
    "# This is a two-sided test. For a level 0.05 test, set alpha = 0.05/2\n",
    "if pval < alpha/2: \n",
    "    print('p-value is',pval,'- There is enough evidence in the data to reject the null hypoyhesis.')\n",
    "else:\n",
    "    print('p-value is',pval,'- There is not enough evidence in the data to reject the null hypothesis.')"
   ]
  }
 ],
 "metadata": {
  "kernelspec": {
   "display_name": "tensorflow",
   "language": "python",
   "name": "tensorflow"
  },
  "language_info": {
   "codemirror_mode": {
    "name": "ipython",
    "version": 3
   },
   "file_extension": ".py",
   "mimetype": "text/x-python",
   "name": "python",
   "nbconvert_exporter": "python",
   "pygments_lexer": "ipython3",
   "version": "3.6.8"
  },
  "varInspector": {
   "cols": {
    "lenName": 16,
    "lenType": 16,
    "lenVar": 40
   },
   "kernels_config": {
    "python": {
     "delete_cmd_postfix": "",
     "delete_cmd_prefix": "del ",
     "library": "var_list.py",
     "varRefreshCmd": "print(var_dic_list())"
    },
    "r": {
     "delete_cmd_postfix": ") ",
     "delete_cmd_prefix": "rm(",
     "library": "var_list.r",
     "varRefreshCmd": "cat(var_dic_list()) "
    }
   },
   "position": {
    "height": "144px",
    "left": "1083px",
    "right": "20px",
    "top": "-6px",
    "width": "350px"
   },
   "types_to_exclude": [
    "module",
    "function",
    "builtin_function_or_method",
    "instance",
    "_Feature"
   ],
   "window_display": true
  }
 },
 "nbformat": 4,
 "nbformat_minor": 2
}
